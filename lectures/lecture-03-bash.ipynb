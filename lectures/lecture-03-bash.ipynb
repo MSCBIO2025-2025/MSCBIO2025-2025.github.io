{
 "cells": [
  {
   "cell_type": "code",
   "execution_count": null,
   "metadata": {
    "editable": true,
    "slideshow": {
     "slide_type": ""
    },
    "tags": []
   },
   "outputs": [],
   "source": [
    "from IPython.core.display import HTML\n",
    "\n",
    "def _set_css_style(css_file_path):\n",
    "   \"\"\"\n",
    "   Read the custom CSS file and load it into Jupyter.\n",
    "   Pass the file path to the CSS file.\n",
    "   \"\"\"\n",
    "\n",
    "   styles = open(css_file_path, \"r\").read()\n",
    "   s = '<style>%s</style>' % styles     \n",
    "   return HTML(s)\n",
    "\n",
    "_set_css_style('rise.css')"
   ]
  },
  {
   "cell_type": "markdown",
   "metadata": {
    "editable": true,
    "slideshow": {
     "slide_type": "slide"
    },
    "tags": []
   },
   "source": [
    "## Scripts and text processing with the Linux command line\n",
    "\n",
    "<a href=\"?print-pdf\">print view</a><br>\n",
    "<a href=\"lecture-03-bash.ipynb\">notebook</a>\n",
    "\n",
    "* Environment variables    \n",
    "* Command line control structures  \n",
    "* Input/output control  \n",
    "* Simple text processing  "
   ]
  },
  {
   "cell_type": "markdown",
   "metadata": {
    "editable": true,
    "slideshow": {
     "slide_type": "slide"
    },
    "tags": []
   },
   "source": [
    "## Reviewing shell commands\n",
    "\n",
    "**Path commands**\n",
    "\n",
    "```\n",
    "ls    ← list files\n",
    "cd    ← change directory\n",
    "pwd   ← print working (current) directory\n",
    "..    ← referral to parent directory\n",
    ".     ← referral to current directory\n",
    "```"
   ]
  },
  {
   "cell_type": "markdown",
   "metadata": {
    "editable": true,
    "slideshow": {
     "slide_type": "fragment"
    },
    "tags": []
   },
   "source": [
    "**File manipulation**\n",
    "\n",
    "```\n",
    "cp   ← copy\n",
    "mv   ← move\n",
    "rm   ← remove (delete)\n",
    "```"
   ]
  },
  {
   "cell_type": "markdown",
   "metadata": {
    "editable": true,
    "slideshow": {
     "slide_type": "slide"
    },
    "tags": []
   },
   "source": [
    "## Environment variables\n",
    "\n",
    "Variables are also stored in terminal sessions  \n",
    "`NAME=value` sets `NAME` equal to `value`, with **no spaces** around `=`  \n",
    "\n",
    "`export NAME=value` sets `NAME` equal to `value` and make it stick in future sessions  \n",
    "\n",
    "`$` *dereference* (get the value of) the variable"
   ]
  },
  {
   "cell_type": "code",
   "execution_count": null,
   "metadata": {
    "editable": true,
    "slideshow": {
     "slide_type": "fragment"
    },
    "tags": []
   },
   "outputs": [],
   "source": [
    "%%bash\n",
    "X=3\n",
    "echo $X"
   ]
  },
  {
   "cell_type": "code",
   "execution_count": null,
   "metadata": {
    "editable": true,
    "slideshow": {
     "slide_type": "fragment"
    },
    "tags": []
   },
   "outputs": [],
   "source": [
    "%%bash\n",
    "X=hello\n",
    "echo $X"
   ]
  },
  {
   "cell_type": "code",
   "execution_count": null,
   "metadata": {
    "editable": true,
    "slideshow": {
     "slide_type": "fragment"
    },
    "tags": []
   },
   "outputs": [],
   "source": [
    "%%bash\n",
    "echo X"
   ]
  },
  {
   "cell_type": "markdown",
   "metadata": {
    "editable": true,
    "slideshow": {
     "slide_type": "notes"
    },
    "tags": []
   },
   "source": [
    " "
   ]
  },
  {
   "cell_type": "markdown",
   "metadata": {
    "editable": true,
    "slideshow": {
     "slide_type": "slide"
    },
    "tags": []
   },
   "source": [
    "### More complex variables\n",
    "\n",
    "Commands can also be set as variables with backticks `` `cmd` ``"
   ]
  },
  {
   "cell_type": "code",
   "execution_count": null,
   "metadata": {
    "editable": true,
    "slideshow": {
     "slide_type": "fragment"
    },
    "tags": []
   },
   "outputs": [],
   "source": [
    "%%bash\n",
    "X=`ls *.css`\n",
    "echo $X"
   ]
  },
  {
   "cell_type": "code",
   "execution_count": null,
   "metadata": {
    "editable": true,
    "slideshow": {
     "slide_type": ""
    },
    "tags": []
   },
   "outputs": [],
   "source": [
    "%%bash\n",
    "X=3\n",
    "echo $X\n",
    "echo ${X}\n",
    "echo '$X'\n",
    "echo \\\"$X\\\""
   ]
  },
  {
   "cell_type": "markdown",
   "metadata": {
    "editable": true,
    "slideshow": {
     "slide_type": "notes"
    },
    "tags": []
   },
   "source": [
    " "
   ]
  },
  {
   "cell_type": "markdown",
   "metadata": {
    "editable": true,
    "slideshow": {
     "slide_type": "slide"
    },
    "tags": []
   },
   "source": [
    "### Some common special characters\n",
    "\n",
    "```\n",
    "$   ← dereference variable  \n",
    "*   ← wildcard (see also ? and [...] for more restrictions)  \n",
    "\\   ← escape character  \n",
    "```\n",
    "\n",
    "... and more examples soon  "
   ]
  },
  {
   "cell_type": "markdown",
   "metadata": {
    "editable": true,
    "slideshow": {
     "slide_type": "slide"
    },
    "tags": []
   },
   "source": [
    "## Command line control structures\n",
    "\n",
    "Bash can run simple loops, if/then statements, etc. "
   ]
  },
  {
   "cell_type": "code",
   "execution_count": null,
   "metadata": {
    "editable": true,
    "slideshow": {
     "slide_type": "fragment"
    },
    "tags": []
   },
   "outputs": [],
   "source": [
    "%%bash\n",
    "for i in x y z\n",
    "do\n",
    "  echo $i\n",
    "done"
   ]
  },
  {
   "cell_type": "code",
   "execution_count": null,
   "metadata": {
    "editable": true,
    "slideshow": {
     "slide_type": "fragment"
    },
    "tags": []
   },
   "outputs": [],
   "source": [
    "%%bash\n",
    "for file in *.css\n",
    "do\n",
    "  echo $file\n",
    "done"
   ]
  },
  {
   "cell_type": "markdown",
   "metadata": {
    "editable": true,
    "slideshow": {
     "slide_type": "notes"
    },
    "tags": []
   },
   "source": [
    " "
   ]
  },
  {
   "cell_type": "markdown",
   "metadata": {
    "editable": true,
    "slideshow": {
     "slide_type": "slide"
    },
    "tags": []
   },
   "source": [
    "### Nested control structures"
   ]
  },
  {
   "cell_type": "code",
   "execution_count": null,
   "metadata": {
    "editable": true,
    "slideshow": {
     "slide_type": "fragment"
    },
    "tags": []
   },
   "outputs": [],
   "source": [
    "%%bash\n",
    "for i in {1..10}\n",
    "do\n",
    "  if [ $i -gt 5 ]; then\n",
    "    echo $i\n",
    "  fi\n",
    "done"
   ]
  },
  {
   "cell_type": "markdown",
   "metadata": {
    "editable": true,
    "slideshow": {
     "slide_type": "fragment"
    },
    "tags": []
   },
   "source": [
    "**Note:** in bash, `>`, `<`, etc. are `string` comparators -- use `-gt`, `-lt`, etc. instead  "
   ]
  },
  {
   "cell_type": "markdown",
   "metadata": {
    "editable": true,
    "slideshow": {
     "slide_type": "slide"
    },
    "tags": []
   },
   "source": [
    "## Input/output redirection\n",
    "\n",
    "```\n",
    ">    ← send standard output to file  \n",
    ">>   ← append standard output to file  \n",
    "<    ← send file to standard input of command  \n",
    "2>   ← send standard error to file  \n",
    "&>   ← send output and error to file\n",
    "```"
   ]
  },
  {
   "cell_type": "markdown",
   "metadata": {
    "editable": true,
    "slideshow": {
     "slide_type": "slide"
    },
    "tags": []
   },
   "source": [
    "### Example -- what prints out?\n",
    "\n",
    "`cat` reads the contents of a file"
   ]
  },
  {
   "cell_type": "code",
   "execution_count": null,
   "metadata": {
    "editable": true,
    "slideshow": {
     "slide_type": "fragment"
    },
    "tags": []
   },
   "outputs": [],
   "source": [
    "%%bash\n",
    "echo Hello > h.txt  \n",
    "echo World >> h.txt  \n",
    "cat h.txt"
   ]
  },
  {
   "cell_type": "markdown",
   "metadata": {
    "editable": true,
    "slideshow": {
     "slide_type": "notes"
    },
    "tags": []
   },
   "source": [
    " "
   ]
  },
  {
   "cell_type": "markdown",
   "metadata": {
    "editable": true,
    "slideshow": {
     "slide_type": "slide"
    },
    "tags": []
   },
   "source": [
    "## Pipes to chain commands\n",
    "\n",
    "A pipe (`|`) redirects the *standard output* of one program to the *standard input* of another.  It's like you typed the output of the first program into the second. This allows us to chain simple programs together to do something more complicated."
   ]
  },
  {
   "cell_type": "markdown",
   "metadata": {
    "editable": true,
    "slideshow": {
     "slide_type": "fragment"
    },
    "tags": []
   },
   "source": [
    "```\n",
    "WC(1)                       General Commands Manual                      WC(1)\n",
    "\n",
    "NAME  \n",
    "     wc – word, line, character, and byte count\n",
    "\n",
    "SYNOPSIS\n",
    "     wc [--libxo] [-Lclmw] [file ...]\n",
    "\n",
    "DESCRIPTION  \n",
    "     The wc utility displays the number of lines, words, and bytes contained\n",
    "     in each input file, or standard input (if no file is specified) to the\n",
    "     standard output.  A line is defined as a string of characters delimited\n",
    "     by a ⟨newline⟩ character.  Characters beyond the final ⟨newline⟩\n",
    "     character will not be included in the line count.\n",
    "\n",
    "     A word is defined as a string of characters delimited by white space\n",
    "     characters.  White space characters are the set of characters for which\n",
    "     the iswspace(3) function returns true.  If more than one input file is\n",
    "     specified, a line of cumulative counts for all the files is displayed on\n",
    "     a separate line after the output for the last file. ...\n",
    "```"
   ]
  },
  {
   "cell_type": "code",
   "execution_count": null,
   "metadata": {
    "editable": true,
    "slideshow": {
     "slide_type": "fragment"
    },
    "tags": []
   },
   "outputs": [],
   "source": [
    "%%bash\n",
    "echo Hello World | wc  "
   ]
  },
  {
   "cell_type": "markdown",
   "metadata": {
    "editable": true,
    "slideshow": {
     "slide_type": "notes"
    },
    "tags": []
   },
   "source": [
    " "
   ]
  },
  {
   "cell_type": "markdown",
   "metadata": {
    "editable": true,
    "slideshow": {
     "slide_type": "slide"
    },
    "tags": []
   },
   "source": [
    "## Simple text manipulation\n",
    "\n",
    "```\n",
    "cat    ← print file to stdout  \n",
    "less   ← view file contents one screen at a time  \n",
    "head   ← show first 10 lines  \n",
    "tail   ← show last 10 lines  \n",
    "wc     ← count lines/words/characters\n",
    "sort   ← sort file by line and print out (`-n` for numerical sort)\n",
    "uniq   ← remove adjacent duplicates (`-c` to count occurances)\n",
    "cut    ← extract fixed width columns from file\n",
    "```"
   ]
  },
  {
   "cell_type": "markdown",
   "metadata": {
    "editable": true,
    "slideshow": {
     "slide_type": ""
    },
    "tags": []
   },
   "source": [
    "### A simple text demonstration"
   ]
  },
  {
   "cell_type": "code",
   "execution_count": null,
   "metadata": {
    "editable": true,
    "slideshow": {
     "slide_type": "fragment"
    },
    "tags": []
   },
   "outputs": [],
   "source": [
    "!echo \"a\\nb\\na\\nb\\nb\" > test.txt\n",
    "!cat test.txt"
   ]
  },
  {
   "cell_type": "code",
   "execution_count": null,
   "metadata": {
    "editable": true,
    "slideshow": {
     "slide_type": "fragment"
    },
    "tags": []
   },
   "outputs": [],
   "source": [
    "!cat test.txt | sort"
   ]
  },
  {
   "cell_type": "code",
   "execution_count": null,
   "metadata": {
    "editable": true,
    "slideshow": {
     "slide_type": "fragment"
    },
    "tags": []
   },
   "outputs": [],
   "source": [
    "!cat test.txt | sort | uniq"
   ]
  },
  {
   "cell_type": "code",
   "execution_count": null,
   "metadata": {
    "editable": true,
    "slideshow": {
     "slide_type": "fragment"
    },
    "tags": []
   },
   "outputs": [],
   "source": [
    "! cat test.txt | sort | uniq | wc  "
   ]
  },
  {
   "cell_type": "markdown",
   "metadata": {
    "editable": true,
    "slideshow": {
     "slide_type": "notes"
    },
    "tags": []
   },
   "source": [
    " "
   ]
  },
  {
   "cell_type": "markdown",
   "metadata": {
    "editable": true,
    "slideshow": {
     "slide_type": "slide"
    },
    "tags": []
   },
   "source": [
    "## Advanced text manipulation\n",
    "\n",
    "```\n",
    "grep   ← search contents of file for expression\n",
    "sed    ← stream editor - perform substitutions\n",
    "awk    ← pattern scanning and processing, great for dealing with data in columns\n",
    "```"
   ]
  },
  {
   "cell_type": "markdown",
   "metadata": {
    "editable": true,
    "slideshow": {
     "slide_type": "slide"
    },
    "tags": []
   },
   "source": [
    "### `grep`\n",
    "\n",
    "Search file(s) contents for a pattern\n",
    "\n",
    "`grep pattern file(s)`\n",
    " * `‐r` recursive search\n",
    " * `‐I` skip over binary files\n",
    " * `‐s` suppress error messages\n",
    " * `‐n` show line numbers\n",
    " * `‐A` *N* show *N* lines after match\n",
    " * `‐B` *N* show *N* lines before match"
   ]
  },
  {
   "cell_type": "code",
   "execution_count": null,
   "metadata": {
    "editable": true,
    "slideshow": {
     "slide_type": "fragment"
    },
    "tags": []
   },
   "outputs": [],
   "source": [
    "!grep a test.txt"
   ]
  },
  {
   "cell_type": "markdown",
   "metadata": {
    "editable": true,
    "slideshow": {
     "slide_type": "notes"
    },
    "tags": []
   },
   "source": [
    " "
   ]
  },
  {
   "cell_type": "markdown",
   "metadata": {
    "editable": true,
    "slideshow": {
     "slide_type": "slide"
    },
    "tags": []
   },
   "source": [
    "### `grep` patterns\n",
    "\n",
    "Patterns are defined using *regular expressions*.  Some useful special characters.\n",
    "\n",
    "* `^pattern`  pattern must be at start of line  \n",
    "* `pattern$` pattern must be at end of line  \n",
    "* `.` match any character, **not** period  \n",
    "* `.*` match any charcter repeated any number of times  \n",
    "* `\\.` escape a special character to treat it literally (i.e., this matches period)  "
   ]
  },
  {
   "cell_type": "markdown",
   "metadata": {
    "editable": true,
    "jp-MarkdownHeadingCollapsed": true,
    "slideshow": {
     "slide_type": "slide"
    },
    "tags": []
   },
   "source": [
    "### `awk`\n",
    "Pattern scanning and processing language. We'll use it to extract columns/fields. It processes a file line-by-line and if a condition holds runs a simple program on the line.\n",
    "\n",
    "` awk 'optional condition {awk program}' file`  \n",
    "* `-Fx` make *x* the field delimiter (default whitespace)  \n",
    "* `NF` number of fields on current line  \n",
    "* `NR` current record number  \n",
    "* `$0` full line  \n",
    "* `$N` Nth field  "
   ]
  },
  {
   "cell_type": "markdown",
   "metadata": {
    "editable": true,
    "slideshow": {
     "slide_type": "slide"
    },
    "tags": []
   },
   "source": [
    "### `awk` examples"
   ]
  },
  {
   "cell_type": "code",
   "execution_count": null,
   "metadata": {
    "editable": true,
    "slideshow": {
     "slide_type": "fragment"
    },
    "tags": []
   },
   "outputs": [],
   "source": [
    "!echo 'id last,first\\n1 Smith,Alice\\n2 Jones,Bob\\n3 Smith,Charlie' > names\n",
    "!cat names"
   ]
  },
  {
   "cell_type": "code",
   "execution_count": null,
   "metadata": {
    "editable": true,
    "slideshow": {
     "slide_type": "fragment"
    },
    "tags": []
   },
   "outputs": [],
   "source": [
    "!awk '{print $1}' names"
   ]
  },
  {
   "cell_type": "code",
   "execution_count": null,
   "metadata": {
    "editable": true,
    "slideshow": {
     "slide_type": "fragment"
    },
    "tags": []
   },
   "outputs": [],
   "source": [
    "!awk -F, '{print $2}' names"
   ]
  },
  {
   "cell_type": "markdown",
   "metadata": {
    "editable": true,
    "slideshow": {
     "slide_type": "notes"
    },
    "tags": []
   },
   "source": [
    " "
   ]
  },
  {
   "cell_type": "code",
   "execution_count": null,
   "metadata": {
    "editable": true,
    "slideshow": {
     "slide_type": "slide"
    },
    "tags": []
   },
   "outputs": [],
   "source": [
    "!awk 'NR > 1 {print $2}' names"
   ]
  },
  {
   "cell_type": "code",
   "execution_count": null,
   "metadata": {
    "editable": true,
    "slideshow": {
     "slide_type": "fragment"
    },
    "tags": []
   },
   "outputs": [],
   "source": [
    "!awk '$1 > 1 {print $0}' names"
   ]
  },
  {
   "cell_type": "markdown",
   "metadata": {
    "editable": true,
    "slideshow": {
     "slide_type": "notes"
    },
    "tags": []
   },
   "source": [
    " "
   ]
  },
  {
   "cell_type": "markdown",
   "metadata": {
    "editable": true,
    "slideshow": {
     "slide_type": "slide"
    },
    "tags": []
   },
   "source": [
    "## Activity\n",
    "\n",
    "Download the `Spellman.csv` file from [http://mscbio2025-2025.github.io/files/Spellman.csv](http://mscbio2025-2025.github.io/files/Spellman.csv), which gene expression levels over time  \n",
    "\n",
    "Use command line tools to answer these questions:\n",
    "- How many data points are in Spellman.csv?\n",
    "- The first three letters of the systematic open reading frames are: 'Y' for yeast, the chromosome number, then the chromosome arm. In the dataset, how many ORFs from chromosome A are there?\n",
    "- How many are there from each chromosome? \n",
    "  - And from each chromosome arm?\n",
    "- How many data points start with a positive expression value?\n",
    "- What are the 10 data points with the highest initial expression values?\n",
    "  - What about the lowest initial expression values?\n",
    "- How many lines are there where expression values are continuously increasing for the first 3 time steps?\n",
    "- Sorted by biggest increase?"
   ]
  },
  {
   "cell_type": "markdown",
   "metadata": {
    "editable": true,
    "slideshow": {
     "slide_type": "notes"
    },
    "tags": []
   },
   "source": [
    "```bash\n",
    "wc Spellman.csv   (gives number of lines, because of header this is off by one)\n",
    "grep YA Spellman.csv | wc\n",
    "grep ^YA Spellman.csv | wc  (this is a bit better, ^ matches begining of line)\n",
    "grep ^YA -c Spellman.csv  (grep can provide the count itself)\n",
    "awk -F, 'NR > 1 {print $1}' Spellman.csv | cut -b 1-2 | sort | uniq -c\n",
    "awk -F, 'NR > 1 {print $1}' Spellman.csv | cut -b 1-3 | sort | uniq -c\n",
    "awk -F, 'NR > 1 && $2 > 0 {print $0}' Spellman.csv | wc\n",
    "awk -F, 'NR > 1  {print $1,$2}' Spellman.csv  | sort -k2,2 -n | tail\n",
    "awk -F, 'NR > 1  {print $1,$2}' Spellman.csv  | sort -k2,2 -n -r | tail\n",
    "awk -F, 'NR > 1 && $3 > $2 && $4 > $3 {print $0}' Spellman.csv  |wc\n",
    "awk -F, 'NR > 1 && $3 > $2 && $4 > $3  {print $4-$2,$0}' Spellman.csv   | sort -n -k1,1\n",
    "```"
   ]
  },
  {
   "cell_type": "markdown",
   "metadata": {
    "editable": true,
    "slideshow": {
     "slide_type": "slide"
    },
    "tags": []
   },
   "source": [
    "## Next time\n",
    "\n",
    "Getting started with Python"
   ]
  },
  {
   "cell_type": "markdown",
   "metadata": {
    "editable": true,
    "slideshow": {
     "slide_type": "slide"
    },
    "tags": []
   },
   "source": [
    "# Running Python\n",
    "\n",
    "```bash\n",
    "$ cat hi.py \n",
    "print(\"hi\")\n",
    "$ python3 hi.py\n",
    "hi\n",
    "```"
   ]
  },
  {
   "cell_type": "markdown",
   "metadata": {
    "editable": true,
    "slideshow": {
     "slide_type": ""
    },
    "tags": []
   },
   "source": [
    "```bash\n",
    "$ cat hi.py \n",
    "#!/usr/bin/python3\n",
    "print(\"hi\")\n",
    "$ chmod +x hi.py  # make the file executable\n",
    "$ ls -l hi.py \n",
    "-rwxr-xr-x  1 jpb156  staff  29 Sep  3 16:05 hi.py\n",
    "$ ./hi.py \n",
    "hi\n",
    "```"
   ]
  },
  {
   "cell_type": "markdown",
   "metadata": {
    "editable": true,
    "slideshow": {
     "slide_type": "slide"
    },
    "tags": []
   },
   "source": [
    "# Python versions\n",
    "\n",
    "**python2**  Legacy python.  \n",
    "\n",
    "**python3** Released in 2008. Mostly the same as python2 but \"cleaned up\".  Breaks backwards compatibility. May need to specify explicity (`python3`). *We will be using python3*.\n",
    "\n",
    "https://wiki.python.org/moin/Python2orPython3\n",
    "\n",
    "```bash\n",
    "$ python\n",
    "Python 3.10.14 | packaged by conda-forge | (main, Mar 20 2024, 12:51:49) [Clang 16.0.6 ] on darwin\n",
    "Type \"help\", \"copyright\", \"credits\" or \"license\" for more information.\n",
    ">>> \n",
    "```"
   ]
  },
  {
   "cell_type": "markdown",
   "metadata": {
    "slideshow": {
     "slide_type": "slide"
    }
   },
   "source": [
    "# IPython\n",
    "\n",
    "##  A powerful interactive shell\n",
    "* Tab complete commands, file names\n",
    "* Support for a number of \"shell\" commands (ls, cd, pwd, etc)\n",
    "* Supports up arrow, `Ctrl-R`\n",
    "* Persistent command history across sessions\n",
    "* Backbone of notebooks...\n",
    "\n",
    "```bash\n",
    "$ ipython\n",
    "Python 3.10.14 | packaged by conda-forge | (main, Mar 20 2024, 12:51:49) [Clang 16.0.6 ]\n",
    "Type 'copyright', 'credits' or 'license' for more information\n",
    "IPython 8.26.0 -- An enhanced Interactive Python. Type '?' for help.\n",
    "\n",
    "In [1]: \n",
    "```"
   ]
  },
  {
   "cell_type": "markdown",
   "metadata": {
    "slideshow": {
     "slide_type": "slide"
    }
   },
   "source": [
    "# ipython notebook  \n",
    "\n",
    "<strike>\n",
    "<pre>\n",
    "$ ipython notebook\n",
    "</pre>\n",
    "</strike>\n",
    "\n",
    "<pre>\n",
    "$ jupyter notebook\n",
    "</pre>"
   ]
  },
  {
   "cell_type": "markdown",
   "metadata": {},
   "source": [
    "Now called Jupyter (not just for python) <a href=\"https://jupyter.org\">jupyter.org</a>\n",
    "\n",
    "IPython in your browser.  Save your code *and* your output.\n",
    "\n",
    "[Colab](https://colab.research.google.com/) is basically a Google hosted Jupyter notebook.\n",
    "\n",
    "Demo: running code (shift-enter), cell types, saving and exporting, kernel state"
   ]
  },
  {
   "cell_type": "markdown",
   "metadata": {
    "slideshow": {
     "slide_type": "slide"
    }
   },
   "source": [
    "# Why Jupyter notebook?\n",
    "\n",
    "* A \"lab notebook\" for data science\n",
    "* See output as you run commands\n",
    "* Embedded figures/output\n",
    "* Easy to modify and rerun steps\n",
    "* Can embed formatted text - share code *and* reason for code\n",
    "* Can convert to multiple formats (html, pdf, raw python, even slides)\n",
    "\n",
    "[A different perspective](https://docs.google.com/presentation/d/1n2RlMdmv1p25Xy5thJUhkKGvjtV-dkAIsUXP-AL4ffI/present?token=AC4w5ViEY1bIVsQHr8Z_JV3-l800VDuEpg%3A1536066747968&includes_info_params=1#slide=id.g362da58057_0_1)"
   ]
  }
 ],
 "metadata": {
  "celltoolbar": "Slideshow",
  "kernelspec": {
   "display_name": "Python 3 (ipykernel)",
   "language": "python",
   "name": "python3"
  },
  "language_info": {
   "codemirror_mode": {
    "name": "ipython",
    "version": 3
   },
   "file_extension": ".py",
   "mimetype": "text/x-python",
   "name": "python",
   "nbconvert_exporter": "python",
   "pygments_lexer": "ipython3",
   "version": "3.11.13"
  }
 },
 "nbformat": 4,
 "nbformat_minor": 4
}
