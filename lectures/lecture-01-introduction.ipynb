{
 "cells": [
  {
   "cell_type": "code",
   "execution_count": null,
   "id": "e4caeb35-1090-46ac-8e34-cfbf182e7085",
   "metadata": {
    "editable": true,
    "slideshow": {
     "slide_type": ""
    },
    "tags": []
   },
   "outputs": [],
   "source": [
    "from IPython.core.display import HTML\n",
    "\n",
    "def _set_css_style(css_file_path):\n",
    "   \"\"\"\n",
    "   Read the custom CSS file and load it into Jupyter.\n",
    "   Pass the file path to the CSS file.\n",
    "   \"\"\"\n",
    "\n",
    "   styles = open(css_file_path, \"r\").read()\n",
    "   s = '<style>%s</style>' % styles     \n",
    "   return HTML(s)\n",
    "\n",
    "_set_css_style('rise.css')"
   ]
  },
  {
   "cell_type": "markdown",
   "id": "d826b2a1",
   "metadata": {
    "editable": true,
    "slideshow": {
     "slide_type": "slide"
    },
    "tags": []
   },
   "source": [
    "## MSCBIO 2025: Introduction to bioinformatics programming in Python\n",
    "\n",
    "**Instructors:** Shikhar Uttam, John Barton, Mert Gur  \n",
    "**TA**: Rezwan Hosseini"
   ]
  },
  {
   "cell_type": "markdown",
   "id": "16087962-4657-4a38-81ff-ec995d958992",
   "metadata": {
    "editable": true,
    "slideshow": {
     "slide_type": "slide"
    },
    "tags": []
   },
   "source": [
    "### Course goals\n",
    "\n",
    "- Introduce computational methods for storing and analyzing (biological) data\n",
    "- Cover principles of coding, data storage, and data analysis\n",
    "- Survey several methods/data types for different biological problems\n",
    "- Prepare to use Python independently for research"
   ]
  },
  {
   "cell_type": "markdown",
   "id": "df5811e1-cb9a-4d1c-9007-fd3fd5f9cc5c",
   "metadata": {
    "editable": true,
    "slideshow": {
     "slide_type": "slide"
    },
    "tags": []
   },
   "source": [
    "### Why Python?\n",
    "\n",
    "- Python is a very **high-level** language -- easy to use, but sometimes slower than lower-level languages\n",
    "- Currently the most popular language worldwide\n",
    "- Highly developed, with packages for almost all common tasks\n",
    "- Large community for answering questions and solving problems"
   ]
  },
  {
   "cell_type": "markdown",
   "id": "dd6b999e-c77d-44a4-8ed2-0fa52aeace54",
   "metadata": {
    "editable": true,
    "slideshow": {
     "slide_type": "slide"
    },
    "tags": []
   },
   "source": [
    "### Logistics\n",
    "\n",
    "Important information will be on the course website, [mscbio2025-2025.github.io](https://mscbio2025-2025.github.io)\n",
    "\n",
    "Syllabus, homework, etc. will be on the website"
   ]
  },
  {
   "cell_type": "markdown",
   "id": "1a7169eb-ee7b-4cfe-aae1-3e809e9fec14",
   "metadata": {
    "editable": true,
    "slideshow": {
     "slide_type": "slide"
    },
    "tags": []
   },
   "source": [
    "### Class structure\n",
    "\n",
    "Before class\n",
    "- Reading assignment (usually)"
   ]
  },
  {
   "cell_type": "markdown",
   "id": "f5176416-b462-4b4b-9595-22d80525e97e",
   "metadata": {
    "editable": true,
    "slideshow": {
     "slide_type": "fragment"
    },
    "tags": []
   },
   "source": [
    "During class\n",
    "- Lecture\n",
    "- Activities and exercises"
   ]
  },
  {
   "cell_type": "markdown",
   "id": "8191c45e-84b6-4f48-a743-27485ad059e8",
   "metadata": {
    "editable": true,
    "slideshow": {
     "slide_type": "fragment"
    },
    "tags": []
   },
   "source": [
    "After class\n",
    "- Homework and projects"
   ]
  },
  {
   "cell_type": "markdown",
   "id": "3c0eb338-6961-4dc9-afe2-192db2e3a834",
   "metadata": {
    "editable": true,
    "slideshow": {
     "slide_type": "slide"
    },
    "tags": []
   },
   "source": [
    "### Homework information\n",
    "\n",
    "Weekly homework through GitHub Classroom\n",
    "\n",
    "Typically assigned on Tuesday, due the following Tuesday at 11:59 pm\n",
    "\n",
    "Homework submissions will be graded automatically -- submit as many times as you like before the deadline  \n",
    "\n",
    "Feel free to collaborate on assignments, but try to come up with your own solutions"
   ]
  },
  {
   "cell_type": "markdown",
   "id": "a165cdaf-6a94-498c-83e7-629cb4b07239",
   "metadata": {
    "editable": true,
    "slideshow": {
     "slide_type": "slide"
    },
    "tags": []
   },
   "source": [
    "### Class policies\n",
    "\n",
    "The most important goal is to learn! Most lectures will include active exercises as well as overview of material"
   ]
  },
  {
   "cell_type": "markdown",
   "id": "f12d4825-2886-4e5c-a3ba-715a39628f25",
   "metadata": {
    "editable": true,
    "slideshow": {
     "slide_type": "fragment"
    },
    "tags": []
   },
   "source": [
    "Avoid AI for assignments: we want to grow *your* skills and understanding"
   ]
  },
  {
   "cell_type": "markdown",
   "id": "3dcc7b6d-7453-4094-8e19-72f663ebb0a9",
   "metadata": {
    "editable": true,
    "slideshow": {
     "slide_type": "fragment"
    },
    "tags": []
   },
   "source": [
    "This will help you to use AI assistance wisely in research"
   ]
  },
  {
   "cell_type": "markdown",
   "id": "804b0ec8-52ad-450c-abe8-d75289da15d7",
   "metadata": {
    "editable": true,
    "slideshow": {
     "slide_type": "fragment"
    },
    "tags": []
   },
   "source": [
    "Grades: 70% homework, 30% team final project"
   ]
  },
  {
   "cell_type": "markdown",
   "id": "b26f4c9f-89f9-414f-8f81-54b99544b116",
   "metadata": {
    "editable": true,
    "slideshow": {
     "slide_type": "slide"
    },
    "tags": []
   },
   "source": [
    "## Installing Python\n",
    "\n",
    "We're recommending Miniforge since it is lightweight and easy to use across platforms\n",
    "\n",
    "https://conda-forge.org/miniforge/"
   ]
  },
  {
   "cell_type": "markdown",
   "id": "51d02f76",
   "metadata": {
    "editable": true,
    "slideshow": {
     "slide_type": "slide"
    },
    "tags": []
   },
   "source": [
    "### About package managers  \n",
    "* Simplifies installation of scientific packages with compiled C/Fortran code (NumPy, SciPy, Pandas...)  \n",
    "* Solves dependency versions for you  \n",
    "* Keeps course software isolated from the OS and from other classes/projects  "
   ]
  },
  {
   "cell_type": "markdown",
   "id": "2b234e74",
   "metadata": {
    "editable": true,
    "slideshow": {
     "slide_type": "slide"
    },
    "tags": []
   },
   "source": [
    "### Virtual environments, \"Sandboxes for Python\"\n",
    "* Think of each environment as a self‑contained folder with its own Python interpreter and packages  \n",
    "* You can switch between environments without conflicts (`conda activate myproj`)  \n",
    "* Easy to export/share with for reproducibility  "
   ]
  },
  {
   "cell_type": "markdown",
   "id": "193a79d8-8596-428c-a73e-c1f01f9d0d66",
   "metadata": {
    "editable": true,
    "slideshow": {
     "slide_type": "slide"
    },
    "tags": []
   },
   "source": [
    "### For Windows users\n",
    "\n",
    "Enable and install [WSL](https://learn.microsoft.com/en-us/windows/wsl/install) (admin PowerShell)\n",
    "\n",
    "`wsl --install # reboots once, installs Ubuntu 22.04 LTS by default`"
   ]
  },
  {
   "cell_type": "markdown",
   "id": "27efa648-8225-487d-bf79-2866b841c0e9",
   "metadata": {
    "editable": true,
    "slideshow": {
     "slide_type": "fragment"
    },
    "tags": []
   },
   "source": [
    "WSL allows Windows users to use Linux-style shell commands -- essential for working on a computing cluster"
   ]
  },
  {
   "cell_type": "markdown",
   "id": "f3ab336f-6060-48f6-8c4e-8b7f748f5bb6",
   "metadata": {
    "editable": true,
    "slideshow": {
     "slide_type": "fragment"
    },
    "tags": []
   },
   "source": [
    "After installing, open Ubuntu and set a username/password"
   ]
  },
  {
   "cell_type": "markdown",
   "id": "827af736",
   "metadata": {
    "editable": true,
    "slideshow": {
     "slide_type": "slide"
    },
    "tags": []
   },
   "source": [
    "### Python installation steps\n",
    "1. **Download** the Miniforge installer matching your platform here [https://conda-forge.org/miniforge/#latest-release](https://conda-forge.org/miniforge/#latest-release):\n",
    "   * macOS‑arm64 (`Miniforge3-MacOSX-arm64.sh`)\n",
    "   * macOS‑x86_64 (`Miniforge3-MacOSX-x86_64.sh`)\n",
    "   * Linux‑x86_64 (`Miniforge3-Linux-x86_64.sh`)\n",
    "   * Windows (PowerShell script `Miniforge3-Windows-x86_64.exe`)\n",
    "2. **Run** the installer (accept defaults)  \n",
    "3. **Restart** terminal (or run `source ~/.bashrc` / open new PowerShell)  \n",
    "4. Verify with `conda info`  "
   ]
  },
  {
   "cell_type": "code",
   "execution_count": null,
   "id": "9d67223b",
   "metadata": {
    "editable": true,
    "slideshow": {
     "slide_type": "fragment"
    },
    "tags": []
   },
   "outputs": [],
   "source": [
    "%%bash\n",
    "conda --version \n",
    "conda info | head -n 15"
   ]
  },
  {
   "cell_type": "markdown",
   "id": "e5e329fe-c5a1-4038-a20c-2c6dc85a2c2f",
   "metadata": {
    "editable": true,
    "slideshow": {
     "slide_type": "notes"
    },
    "tags": []
   },
   "source": [
    " "
   ]
  },
  {
   "cell_type": "markdown",
   "id": "344542f2-ce21-48a6-80a4-a0a370443fb7",
   "metadata": {
    "editable": true,
    "slideshow": {
     "slide_type": "slide"
    },
    "tags": []
   },
   "source": [
    "### Common issues and fixes\n",
    "* **`conda: command not found`** → Terminal not initialised; run the shell init snippet printed by installer  \n",
    "* **Windows PowerShell execution policy** → Run `Set-ExecutionPolicy RemoteSigned` as Administrator once  "
   ]
  },
  {
   "cell_type": "markdown",
   "id": "381fce5c-1796-4bc9-a2cb-e6170a9f13f8",
   "metadata": {
    "editable": true,
    "slideshow": {
     "slide_type": "slide"
    },
    "tags": []
   },
   "source": [
    "### Python environment setup\n",
    "\n",
    "1. **Download** our Python environment at [https://mscbio2025-2025.github.io/files/environment.yml](https://mscbio2025-2025.github.io/files/environment.yml)  \n",
    "2. **Create** a new folder for course files in your home directory\n",
    "```bash\n",
    "mkdir -p ~/bioinformatics\n",
    "cd ~/bioinformatics # more on these commands next time! \n",
    "```"
   ]
  },
  {
   "cell_type": "markdown",
   "id": "ecec1a3c-2aa9-4a8f-a9ee-905152df881d",
   "metadata": {
    "editable": true,
    "slideshow": {
     "slide_type": "fragment"
    },
    "tags": []
   },
   "source": [
    "3. **Move** `environment.yml` from your downloads folder to `~/bioinformatics`\n",
    "```bash\n",
    "mv ~/Downloads/environment.yml .  # macOS/Linux default\n",
    "mv /mnt/c/Users/<your windows username>/Downloads/environment.yml . # Windows default (WSL)\n",
    "```"
   ]
  },
  {
   "cell_type": "markdown",
   "id": "88671fac",
   "metadata": {
    "editable": true,
    "slideshow": {
     "slide_type": "fragment"
    },
    "tags": []
   },
   "source": [
    "4. **Create** the course environment\n",
    "```bash\n",
    "conda env create -f environment.yml   # may take 1‑3 min with libmamba\n",
    "conda activate bioinfo                # name defined inside the YAML\n",
    "```"
   ]
  },
  {
   "cell_type": "code",
   "execution_count": null,
   "id": "221772da",
   "metadata": {
    "editable": true,
    "slideshow": {
     "slide_type": "slide"
    },
    "tags": []
   },
   "outputs": [],
   "source": [
    "## Quick Python check inside Jupyter or terminal\n",
    "import sys, pandas, numpy, matplotlib\n",
    "print(sys.version)\n",
    "print('pandas', pandas.__version__)\n",
    "print('numpy', numpy.__version__)"
   ]
  },
  {
   "cell_type": "markdown",
   "id": "ce195abe-f1d3-48c6-b154-22b41f93a445",
   "metadata": {
    "editable": true,
    "slideshow": {
     "slide_type": "notes"
    },
    "tags": []
   },
   "source": [
    " "
   ]
  },
  {
   "cell_type": "markdown",
   "id": "260f6431",
   "metadata": {
    "editable": true,
    "slideshow": {
     "slide_type": "slide"
    },
    "tags": []
   },
   "source": [
    "## Resources \n",
    "* Miniforge project page: <https://github.com/conda-forge/miniforge>  \n",
    "* Conda cheat sheet: <https://docs.conda.io/projects/conda/en/latest/user-guide/cheatsheet.html>  "
   ]
  },
  {
   "cell_type": "markdown",
   "id": "d5eb7c6b-3769-4732-8c53-3ac7e1462c7b",
   "metadata": {
    "editable": true,
    "jp-MarkdownHeadingCollapsed": true,
    "slideshow": {
     "slide_type": "slide"
    },
    "tags": []
   },
   "source": [
    "## Next time  \n",
    "- File system organization  \n",
    "- Using the command line (bash)  "
   ]
  }
 ],
 "metadata": {
  "kernelspec": {
   "display_name": "Python 3 (ipykernel)",
   "language": "python",
   "name": "python3"
  },
  "language_info": {
   "codemirror_mode": {
    "name": "ipython",
    "version": 3
   },
   "file_extension": ".py",
   "mimetype": "text/x-python",
   "name": "python",
   "nbconvert_exporter": "python",
   "pygments_lexer": "ipython3",
   "version": "3.11.13"
  },
  "rise": {
   "enable_chalkboard": true,
   "start_slideshow_at": "selected",
   "theme": "simple",
   "transition": "fade"
  }
 },
 "nbformat": 4,
 "nbformat_minor": 5
}
