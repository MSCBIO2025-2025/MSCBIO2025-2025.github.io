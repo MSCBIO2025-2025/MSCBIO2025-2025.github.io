{
 "cells": [
  {
   "cell_type": "code",
   "execution_count": null,
   "id": "c7b9ee22-4d82-4ebe-b718-bfc4b8845a37",
   "metadata": {
    "editable": true,
    "slideshow": {
     "slide_type": ""
    },
    "tags": []
   },
   "outputs": [],
   "source": [
    "from IPython.core.display import HTML\n",
    "\n",
    "def _set_css_style(css_file_path):\n",
    "   \"\"\"\n",
    "   Read the custom CSS file and load it into Jupyter.\n",
    "   Pass the file path to the CSS file.\n",
    "   \"\"\"\n",
    "\n",
    "   styles = open(css_file_path, \"r\").read()\n",
    "   s = '<style>%s</style>' % styles     \n",
    "   return HTML(s)\n",
    "\n",
    "_set_css_style('rise.css')"
   ]
  },
  {
   "cell_type": "markdown",
   "id": "2a5c9d56",
   "metadata": {
    "editable": true,
    "slideshow": {
     "slide_type": "slide"
    },
    "tags": []
   },
   "source": [
    "## File systems and the command line  \n",
    "\n",
    "<a href=\"?print-pdf\">print view</a><br>\n",
    "<a href=\"lecture-02-files.ipynb\">notebook</a>\n",
    "\n",
    "* Absolute and relative paths  \n",
    "* Important directories on macOS, Windows, and Linux  \n",
    "* Core shell commands (`pwd`, `ls`, `cd`, `mkdir`, `cp`, `mv`, `rm`) to navigate and manage files  \n",
    "* Execute shell commands inside a Jupyter notebook  "
   ]
  },
  {
   "cell_type": "markdown",
   "id": "c0abc23c",
   "metadata": {
    "editable": true,
    "slideshow": {
     "slide_type": "slide"
    },
    "tags": []
   },
   "source": [
    "## About file systems    \n",
    "* A hierarchical “tree” of directories and files beginning at the **root** (`/` or a drive letter)  \n",
    "* Each file has a *path* that tells the computer how to reach it   \n",
    "* File **extensions** hint at type, but the OS ultimately stores bytes -- be explicit  \n"
   ]
  },
  {
   "cell_type": "markdown",
   "id": "da462a9b",
   "metadata": {
    "editable": true,
    "slideshow": {
     "slide_type": "slide"
    },
    "tags": []
   },
   "source": [
    "### Home directories across operating systems  \n",
    "\n",
    "| Platform | Typical home path | Example | Notes |  \n",
    "|----------|-------------------|---------|-------|  \n",
    "| macOS / Linux | `/Users/<user>` or `/home/<user>` | `/Users/alice` | Forward‐slash `/` separator |  \n",
    "| Windows 10+ | `C:\\Users\\<user>` | `C:\\Users\\Bob` | Back‑slash `\\` separator |  \n",
    "| HPC cluster | `/home/<user>` | `/home/ab1234` | Access via **SSH** |  \n",
    "\n",
    "Within WSL, main Windows folders are reached through `/mnt/c/<path>`, assuming the default `C` drive   "
   ]
  },
  {
   "cell_type": "markdown",
   "id": "7d5e4304",
   "metadata": {
    "editable": true,
    "slideshow": {
     "slide_type": "slide"
    },
    "tags": []
   },
   "source": [
    "### Absolute vs relative paths  \n",
    "\n",
    "* **Absolute** – always starts from the root or drive: `/Users/alice/course-filesystem-lab/data/README.md`  \n",
    "* **Relative** – interpreted *from your current working directory*: `data/README.md`  \n",
    "* `.` = *this* directory  `..` = *parent* directory  \n"
   ]
  },
  {
   "cell_type": "code",
   "execution_count": null,
   "id": "55f36052",
   "metadata": {
    "editable": true,
    "slideshow": {
     "slide_type": "slide"
    },
    "tags": []
   },
   "outputs": [],
   "source": [
    "# Where am I?  (print working directory)\n",
    "!pwd"
   ]
  },
  {
   "cell_type": "code",
   "execution_count": null,
   "id": "07ca50e6-fc33-4c8d-bacb-cb2dc858551c",
   "metadata": {
    "editable": true,
    "slideshow": {
     "slide_type": "fragment"
    },
    "tags": []
   },
   "outputs": [],
   "source": [
    "%%bash\n",
    "# Doing the same thing with magic commands\n",
    "pwd"
   ]
  },
  {
   "cell_type": "code",
   "execution_count": null,
   "id": "9061b197-f1f3-4409-b5dd-efbf8058ae5c",
   "metadata": {
    "editable": true,
    "slideshow": {
     "slide_type": "fragment"
    },
    "tags": []
   },
   "outputs": [],
   "source": [
    "# Note that %% commands need to be at the top!\n",
    "%%bash\n",
    "pwd"
   ]
  },
  {
   "cell_type": "code",
   "execution_count": null,
   "id": "7ca33f7c-b40e-4c72-87cc-89609b53425f",
   "metadata": {
    "editable": true,
    "slideshow": {
     "slide_type": "fragment"
    },
    "tags": []
   },
   "outputs": [],
   "source": [
    "# What is here?  (list files, including hidden dotfiles)\n",
    "!ls -a"
   ]
  },
  {
   "cell_type": "markdown",
   "id": "fa25a584-bc11-4f54-baa9-48798b24cfd1",
   "metadata": {
    "editable": true,
    "slideshow": {
     "slide_type": "notes"
    },
    "tags": []
   },
   "source": [
    " "
   ]
  },
  {
   "cell_type": "markdown",
   "id": "f0225a92",
   "metadata": {
    "editable": true,
    "slideshow": {
     "slide_type": "slide"
    },
    "tags": []
   },
   "source": [
    "## Command‑line navigation    \n",
    "Try these yourself in the notebook or an external terminal. Use **TAB completion**!  \n",
    "\n",
    "| Action | Command | Handy options |  \n",
    "|--------|---------|---------------|  \n",
    "| Show location | `pwd` | – |  \n",
    "| List directory | `ls` | `-l` long, `-a` all, `-h` human‑readable sizes |  \n",
    "| Change directory | `cd <path>` | `cd ~`, `cd ..` |  \n",
    "| Make directory | `mkdir <name>` | `-p` create parents |  \n",
    "| Copy / move | `cp`, `mv` | `-i` interactive prompt |  \n",
    "| Delete | `rm`, `rm -r` | `-i`, *never* `rm -rf /` 😱 |  \n"
   ]
  },
  {
   "cell_type": "code",
   "execution_count": null,
   "id": "42511086",
   "metadata": {
    "editable": true,
    "slideshow": {
     "slide_type": "fragment"
    },
    "tags": []
   },
   "outputs": [],
   "source": [
    "%%bash\n",
    "# Create an example project tree and explore it\n",
    "mkdir -p demo_project/data demo_project/results\n",
    "echo \"example\" > demo_project/data/dummy.txt\n",
    "cd demo_project\n",
    "pwd\n",
    "echo \"--- contents ---\"\n",
    "ls -R\n",
    "cd .."
   ]
  },
  {
   "cell_type": "markdown",
   "id": "1e57c1e7-51a1-42f5-8460-73c3ca52275a",
   "metadata": {
    "editable": true,
    "slideshow": {
     "slide_type": "notes"
    },
    "tags": []
   },
   "source": [
    " "
   ]
  },
  {
   "cell_type": "markdown",
   "id": "3f812998",
   "metadata": {
    "editable": true,
    "slideshow": {
     "slide_type": "slide"
    },
    "tags": []
   },
   "source": [
    "### A reusable project layout  \n",
    "\n",
    "```\n",
    "my-analysis/\n",
    "├── data/        ← raw & intermediate datasets (never edit raw)\n",
    "├── notebooks/   ← exploratory notebooks\n",
    "├── scripts/     ← reusable Python/bash scripts\n",
    "├── results/     ← figures & tables generated by scripts/notebooks\n",
    "└── env/         ← environment & dependency files\n",
    "```  \n",
    "\n",
    "Keeping code, raw data, and generated results **separate** makes projects reproducible (more on this later)  "
   ]
  },
  {
   "cell_type": "markdown",
   "id": "565e6761",
   "metadata": {
    "editable": true,
    "slideshow": {
     "slide_type": "slide"
    },
    "tags": []
   },
   "source": [
    "## Activity    \n",
    "1. In your home directory, create a folder `course-filesystem-lab`  \n",
    "2. Inside it, make the sub‑folders `data/`, `interim/`, and `results/`  \n",
    "3. Download the file `http://mscbio2025-2025.github.io/files/Spellman.csv` into `data/`  \n",
    "4. Copy it into `interim/` preserving the original  \n",
    "5. Use what you’ve learned (`pwd`, `ls`, `cp`, etc.) to verify the layout  \n"
   ]
  },
  {
   "cell_type": "markdown",
   "id": "f7a05636-d280-48dc-af00-b6553afd1304",
   "metadata": {
    "editable": true,
    "slideshow": {
     "slide_type": "slide"
    },
    "tags": []
   },
   "source": [
    "## Remote file systems, data transfer, and permissions  "
   ]
  },
  {
   "cell_type": "markdown",
   "id": "d8627321-eff2-4139-8703-c7ff8ee754cf",
   "metadata": {
    "editable": true,
    "slideshow": {
     "slide_type": "slide"
    },
    "tags": []
   },
   "source": [
    "### What is SSH?\n",
    "* Secure Shell protocol for encrypted remote login\n",
    "* Same file system layout as local Linux/macOS machines\n",
    "\n",
    "```bash\n",
    "ssh <username>@<hostname>\n",
    "```"
   ]
  },
  {
   "cell_type": "markdown",
   "id": "c841e5c6-f1ce-4098-955a-740feded98a3",
   "metadata": {
    "editable": true,
    "jp-MarkdownHeadingCollapsed": true,
    "slideshow": {
     "slide_type": "subslide"
    },
    "tags": []
   },
   "source": [
    "### Generating and using SSH keys (could differ on different servers)  \n",
    "\n",
    "SSH keys unable passwordless login  \n",
    "\n",
    "```bash\n",
    "# Generate a new Ed25519 key‑pair\n",
    "ssh-keygen -t ed25519 -C \"student@laptop\"\n",
    "\n",
    "# Copy the public key to the cluster\n",
    "ssh-copy-id student@hpc.example.edu\n",
    "```"
   ]
  },
  {
   "cell_type": "markdown",
   "id": "4433916e-e13b-4549-aa55-afc29f880852",
   "metadata": {
    "editable": true,
    "slideshow": {
     "slide_type": "slide"
    },
    "tags": []
   },
   "source": [
    "### Copying files – `scp`\n",
    "* **Syntax:** `scp [options] source destination`\n",
    "* Copies *entire* files; no delta‑transfer\n",
    "* Flags: `-r` recursive, `-p` preserve times/permissions, `-i` identity file, `-C` compression\n",
    "\n",
    "Examples:\n",
    "```bash\n",
    "# Copy local notebook to remote home dir\n",
    "scp analysis.ipynb student@hpc.example.edu:~/\n",
    "\n",
    "# Copy an entire folder from remote to local\n",
    "scp -r student@hpc.example.edu:~/results ./remote_results\n",
    "```"
   ]
  },
  {
   "cell_type": "markdown",
   "id": "ffc6faf6-b513-453d-96b8-79110c8d9768",
   "metadata": {
    "editable": true,
    "slideshow": {
     "slide_type": "subslide"
    },
    "tags": []
   },
   "source": [
    "### Synchronizing efficiently – `rsync`\n",
    "* Transfers only changed blocks\n",
    "* Retains permissions; can delete extraneous files (`--delete`)\n",
    "* Works over SSH with `-e ssh`\n",
    "\n",
    "Examples:\n",
    "```bash\n",
    "# Push local results → remote\n",
    "rsync -avh --progress results/ student@hpc.example.edu:project/results/\n",
    "\n",
    "# Mirror remote scratch directory locally\n",
    "rsync -avzh --delete student@hpc.example.edu:scratch/run42/ ./run42/\n",
    "```"
   ]
  },
  {
   "cell_type": "markdown",
   "id": "1c9bdab2-1e75-4b57-b276-138a9d4dfc7a",
   "metadata": {
    "editable": true,
    "slideshow": {
     "slide_type": "slide"
    },
    "tags": []
   },
   "source": [
    "### File permissions  \n",
    "* **Three roles:** *user* (u), *group* (g), *other* (o)\n",
    "* **Three bits:** *read (r)*, *write (w)*, *execute (x)*\n",
    "* Symbolic form: `drwxr-x---`\n",
    "* Numeric (octal) form: `750`\n",
    "\n",
    "Useful commands:\n",
    "```bash\n",
    "ls -l file.txt\n",
    "chmod u+x script.sh      # add execute for user\n",
    "chmod g-w notes.txt      # remove write for group\n",
    "chmod 640 data.tsv       # rw for user, r for group, – for others\n",
    "```"
   ]
  },
  {
   "cell_type": "markdown",
   "id": "00ea586b-3a49-4d28-936d-cfb62ae2d6bb",
   "metadata": {
    "editable": true,
    "slideshow": {
     "slide_type": "slide"
    },
    "tags": []
   },
   "source": [
    "## More on the command line\n",
    "\n",
    "`du` - disk usage of files/directores"
   ]
  },
  {
   "cell_type": "code",
   "execution_count": null,
   "id": "698ed4ad-b0bf-4d0a-925d-129d86a33e91",
   "metadata": {
    "editable": true,
    "slideshow": {
     "slide_type": "fragment"
    },
    "tags": []
   },
   "outputs": [],
   "source": [
    "%%bash\n",
    "du -s         # -s option to \"summarize\" usage for all files  \n",
    "du -sh        # -h option for \"human-readable\" format  \n",
    "du -sh files  # check usage in a particular directory"
   ]
  },
  {
   "cell_type": "markdown",
   "id": "141ec8a4-7d41-4282-b29b-9fc9d3acc334",
   "metadata": {
    "editable": true,
    "slideshow": {
     "slide_type": "fragment"
    },
    "tags": []
   },
   "source": [
    "`df` - usage of full disk"
   ]
  },
  {
   "cell_type": "code",
   "execution_count": null,
   "id": "374a680e-afac-4a88-aa91-5f85df3a3c4c",
   "metadata": {
    "editable": true,
    "slideshow": {
     "slide_type": "fragment"
    },
    "tags": []
   },
   "outputs": [],
   "source": [
    "%%bash\n",
    "df -h . "
   ]
  },
  {
   "cell_type": "markdown",
   "id": "6dfb498f-cf65-459a-83e5-0f577dccf48e",
   "metadata": {
    "editable": true,
    "slideshow": {
     "slide_type": "notes"
    },
    "tags": []
   },
   "source": [
    " "
   ]
  },
  {
   "cell_type": "markdown",
   "id": "a8c75fdb-734b-47a8-9b35-82f40994377e",
   "metadata": {
    "editable": true,
    "slideshow": {
     "slide_type": "slide"
    },
    "tags": []
   },
   "source": [
    "### Finding files, directories, and information\n",
    "\n",
    "`locate` find a file system wide  \n",
    "`find` search directory tree  \n",
    "`which` print location of a command  \n",
    "`man` print manual page of a command  \n"
   ]
  },
  {
   "cell_type": "code",
   "execution_count": null,
   "id": "46723549-ec61-451a-897c-8d1cdc5f35d8",
   "metadata": {
    "editable": true,
    "slideshow": {
     "slide_type": "fragment"
    },
    "tags": []
   },
   "outputs": [],
   "source": [
    "%%bash\n",
    "man find"
   ]
  },
  {
   "cell_type": "markdown",
   "id": "a7dbc9e1-f88f-4b44-be3a-544d845ff219",
   "metadata": {
    "editable": true,
    "slideshow": {
     "slide_type": "notes"
    },
    "tags": []
   },
   "source": [
    " "
   ]
  },
  {
   "cell_type": "markdown",
   "id": "4931812e-0027-4295-98e1-29059f27d0e2",
   "metadata": {
    "editable": true,
    "jp-MarkdownHeadingCollapsed": true,
    "slideshow": {
     "slide_type": "slide"
    },
    "tags": []
   },
   "source": [
    "## Command line history\n",
    "\n",
    "`history` show commands previously issued\n",
    "\n",
    "`up arrow` cycle through previous commands\n",
    "\n",
    "`Ctrl-R` search through history for command  \n",
    "\n",
    "`.bash_history` file that stores the history  "
   ]
  },
  {
   "cell_type": "markdown",
   "id": "a01dd09a-128f-42f7-bca7-34e560498d5e",
   "metadata": {
    "editable": true,
    "slideshow": {
     "slide_type": "slide"
    },
    "tags": []
   },
   "source": [
    "## Other useful shortcuts\n",
    "\n",
    "`tab` -- autocomplete\n",
    "\n",
    "`Ctrl-D` -- EOF/logout/exit\n",
    "\n",
    "`Ctrl-A` -- go to beginning of line\n",
    "\n",
    "`Ctrl-E` -- go to end of line\n",
    "\n",
    "`alias new=cmd` -- make a nickname for a command (from the command line directly, not in Jupyter)  "
   ]
  },
  {
   "cell_type": "markdown",
   "id": "a70f0e04",
   "metadata": {
    "editable": true,
    "jp-MarkdownHeadingCollapsed": true,
    "slideshow": {
     "slide_type": "slide"
    },
    "tags": []
   },
   "source": [
    "## Further resources  \n",
    "* [Software‑Carpentry Unix Shell lesson](https://swcarpentry.github.io/shell-novice/)  \n",
    "* Printable cheat‑sheet: “Twenty most useful Unix commands” (link in Canvas).  \n",
    "* Optional: install **Oh My Zsh** (macOS/Linux) or **Git Bash** (Windows) for improved prompts.  \n"
   ]
  },
  {
   "cell_type": "markdown",
   "id": "15bf4ec3-cd93-49b9-9513-72f86849583a",
   "metadata": {
    "editable": true,
    "slideshow": {
     "slide_type": "slide"
    },
    "tags": []
   },
   "source": [
    "## Next time  \n",
    "- Environment variables\n",
    "- Simple shell scripts\n",
    "- Text manipulation on the command line  "
   ]
  }
 ],
 "metadata": {
  "kernelspec": {
   "display_name": "Python 3 (ipykernel)",
   "language": "python",
   "name": "python3"
  },
  "language_info": {
   "codemirror_mode": {
    "name": "ipython",
    "version": 3
   },
   "file_extension": ".py",
   "mimetype": "text/x-python",
   "name": "python",
   "nbconvert_exporter": "python",
   "pygments_lexer": "ipython3",
   "version": "3.11.13"
  },
  "rise": {
   "slideNumber": true,
   "start_slideshow_at": "selected",
   "transition": "fade"
  }
 },
 "nbformat": 4,
 "nbformat_minor": 5
}
